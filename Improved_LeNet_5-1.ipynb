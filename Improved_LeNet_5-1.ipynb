{
  "nbformat": 4,
  "nbformat_minor": 0,
  "metadata": {
    "accelerator": "GPU",
    "colab": {
      "name": "Improved LeNet 5.ipynb",
      "provenance": [],
      "collapsed_sections": []
    },
    "kernelspec": {
      "display_name": "Python 3",
      "name": "python3"
    }
  },
  "cells": [
    {
      "cell_type": "code",
      "metadata": {
        "colab": {
          "base_uri": "https://localhost:8080/"
        },
        "id": "i9tdp8vBw0B4",
        "outputId": "156390bf-90ab-4ed0-e03e-06531c0af9a7"
      },
      "source": [
        "!pip install pydicom"
      ],
      "execution_count": null,
      "outputs": [
        {
          "output_type": "stream",
          "text": [
            "Requirement already satisfied: pydicom in /usr/local/lib/python3.6/dist-packages (2.1.2)\n"
          ],
          "name": "stdout"
        }
      ]
    },
    {
      "cell_type": "code",
      "metadata": {
        "id": "WbRXpmRxMHGa"
      },
      "source": [
        "import tensorflow as tf\r\n"
      ],
      "execution_count": null,
      "outputs": []
    },
    {
      "cell_type": "code",
      "metadata": {
        "id": "MDemgKqexNbe"
      },
      "source": [
        "import warnings\r\n",
        "warnings.filterwarnings('ignore')\r\n",
        "import numpy as np\r\n",
        "import pandas as pd\r\n",
        "import pydicom\r\n",
        "import glob\r\n",
        "import matplotlib.pyplot as plt\r\n",
        "import matplotlib.patches as patches\r\n",
        "from matplotlib.patches import Rectangle\r\n",
        "from matplotlib import cm\r\n",
        "import os\r\n",
        "import seaborn as sns\r\n",
        "from skimage import measure\r\n",
        "import keras\r\n",
        "\r\n",
        "import cv2\r\n",
        "from keras.utils import to_categorical\r\n",
        "%matplotlib inline"
      ],
      "execution_count": null,
      "outputs": []
    },
    {
      "cell_type": "code",
      "metadata": {
        "colab": {
          "base_uri": "https://localhost:8080/"
        },
        "id": "cA85eqT6xQYM",
        "outputId": "dcd65975-a7e8-466e-d17a-1acfd25c8af6"
      },
      "source": [
        "from google.colab import drive\r\n",
        "drive.mount('/content/drive')"
      ],
      "execution_count": null,
      "outputs": [
        {
          "output_type": "stream",
          "text": [
            "Drive already mounted at /content/drive; to attempt to forcibly remount, call drive.mount(\"/content/drive\", force_remount=True).\n"
          ],
          "name": "stdout"
        }
      ]
    },
    {
      "cell_type": "code",
      "metadata": {
        "id": "_l_ejpEmxVEv"
      },
      "source": [
        "dataDir = '/content/drive/MyDrive/Colab Notebooks/RSNA Pneumonia/unzipped Data/stage_2_train_images/'"
      ],
      "execution_count": null,
      "outputs": []
    },
    {
      "cell_type": "code",
      "metadata": {
        "id": "cjE6gJgLxYLc",
        "colab": {
          "base_uri": "https://localhost:8080/",
          "height": 343
        },
        "outputId": "1949986f-b5a4-44ed-e65c-4ce292be9d8d"
      },
      "source": [
        "print('Storing the DICOM files as a dictionary under trainDicomFiles such that the keys are the patient\\\r\n",
        "ids and the values are the path of the files corresponding to the image.')\r\n",
        "trainDicomFiles = {}\r\n",
        "\r\n",
        "\r\n",
        "\r\n",
        "for root, dirs, files in os.walk(dataDir):\r\n",
        "    for fileName in files:\r\n",
        "            trainDicomFiles[fileName.split(sep='.')[0]] = os.path.join(dataDir, fileName)     \r\n",
        "        \r\n",
        "print('\\nGenerating the data frame for the training data labels.')\r\n",
        "trainLabelDf = pd.read_csv('/content/drive/MyDrive/Colab Notebooks/RSNA Pneumonia/unzipped Data/stage_2_train_labels.csv')\r\n",
        "trainLabelDetailedDf = pd.read_csv('/content/drive/MyDrive/Colab Notebooks/RSNA Pneumonia/unzipped Data/stage_2_detailed_class_info.csv')\r\n",
        "\r\n",
        "# Joining the class information from the detailed class info CSV to the train labels CSV.\r\n",
        "trainLabelDf['class'] = trainLabelDetailedDf['class']\r\n",
        "\r\n",
        "# As the training labels file contain multiple rows for each patient corresponding to the number of bounding boxes present\r\n",
        "# in case of a person with lung opacity, we can group the labels by patient id to find number of unique patients in \r\n",
        "# the label file.\r\n",
        "\r\n",
        "print('\\nAs the training label data frame may contain multiple records for a patient to represent the bounding box, we can \\\r\n",
        "store the bounding box labels in a property called boundingBox that contains a array of box data stored as \\\r\n",
        "{x, y, width, height}')\r\n",
        "\r\n",
        "uniquePatientIds = np.unique(trainLabelDf.patientId)\r\n",
        "trainLabelAndBoundingBoxDf = pd.DataFrame(columns=['patientId', 'target', 'class', 'boundingBox', 'num_of_opacities']\r\n",
        "                                          , index=uniquePatientIds)\r\n",
        "\r\n",
        "patientIdBasedGroups = trainLabelDf.groupby('patientId')\r\n",
        "#counter = 0\r\n",
        "for patientId, group in patientIdBasedGroups:\r\n",
        "#     if counter > 20:\r\n",
        "#         break\r\n",
        "    trainLabelAndBoundingBoxDf.loc[patientId]['patientId'] = patientId\r\n",
        "    trainLabelAndBoundingBoxDf.loc[patientId]['num_of_opacities'] = 0\r\n",
        "    boundingBox = []\r\n",
        "    for index, groupItem in group.iterrows():\r\n",
        "        \r\n",
        "        trainLabelAndBoundingBoxDf.loc[patientId]['target'] = groupItem['Target']\r\n",
        "        trainLabelAndBoundingBoxDf.loc[patientId]['class'] = groupItem['class']\r\n",
        "        \r\n",
        "        if(not np.isnan(groupItem['x'])):\r\n",
        "            boundingBox.append((groupItem['x'], groupItem['y'], groupItem['width'], groupItem['height']))\r\n",
        "            trainLabelAndBoundingBoxDf.loc[patientId]['num_of_opacities'] += 1\r\n",
        "            \r\n",
        "    trainLabelAndBoundingBoxDf.loc[patientId]['boundingBox'] = boundingBox\r\n",
        "#     counter += 1\r\n",
        "\r\n",
        "display(trainLabelAndBoundingBoxDf.head())\r\n",
        "\r\n",
        "print('\\nShape of training labels with bounding box list: ', trainLabelAndBoundingBoxDf.shape)\r\n"
      ],
      "execution_count": null,
      "outputs": [
        {
          "output_type": "stream",
          "text": [
            "Storing the DICOM files as a dictionary under trainDicomFiles such that the keys are the patientids and the values are the path of the files corresponding to the image.\n",
            "\n",
            "Generating the data frame for the training data labels.\n",
            "\n",
            "As the training label data frame may contain multiple records for a patient to represent the bounding box, we can store the bounding box labels in a property called boundingBox that contains a array of box data stored as {x, y, width, height}\n"
          ],
          "name": "stdout"
        },
        {
          "output_type": "display_data",
          "data": {
            "text/html": [
              "<div>\n",
              "<style scoped>\n",
              "    .dataframe tbody tr th:only-of-type {\n",
              "        vertical-align: middle;\n",
              "    }\n",
              "\n",
              "    .dataframe tbody tr th {\n",
              "        vertical-align: top;\n",
              "    }\n",
              "\n",
              "    .dataframe thead th {\n",
              "        text-align: right;\n",
              "    }\n",
              "</style>\n",
              "<table border=\"1\" class=\"dataframe\">\n",
              "  <thead>\n",
              "    <tr style=\"text-align: right;\">\n",
              "      <th></th>\n",
              "      <th>patientId</th>\n",
              "      <th>target</th>\n",
              "      <th>class</th>\n",
              "      <th>boundingBox</th>\n",
              "      <th>num_of_opacities</th>\n",
              "    </tr>\n",
              "  </thead>\n",
              "  <tbody>\n",
              "    <tr>\n",
              "      <th>0004cfab-14fd-4e49-80ba-63a80b6bddd6</th>\n",
              "      <td>0004cfab-14fd-4e49-80ba-63a80b6bddd6</td>\n",
              "      <td>0</td>\n",
              "      <td>No Lung Opacity / Not Normal</td>\n",
              "      <td>[]</td>\n",
              "      <td>0</td>\n",
              "    </tr>\n",
              "    <tr>\n",
              "      <th>000924cf-0f8d-42bd-9158-1af53881a557</th>\n",
              "      <td>000924cf-0f8d-42bd-9158-1af53881a557</td>\n",
              "      <td>0</td>\n",
              "      <td>Normal</td>\n",
              "      <td>[]</td>\n",
              "      <td>0</td>\n",
              "    </tr>\n",
              "    <tr>\n",
              "      <th>000db696-cf54-4385-b10b-6b16fbb3f985</th>\n",
              "      <td>000db696-cf54-4385-b10b-6b16fbb3f985</td>\n",
              "      <td>1</td>\n",
              "      <td>Lung Opacity</td>\n",
              "      <td>[(316.0, 318.0, 170.0, 478.0), (660.0, 375.0, ...</td>\n",
              "      <td>2</td>\n",
              "    </tr>\n",
              "    <tr>\n",
              "      <th>000fe35a-2649-43d4-b027-e67796d412e0</th>\n",
              "      <td>000fe35a-2649-43d4-b027-e67796d412e0</td>\n",
              "      <td>1</td>\n",
              "      <td>Lung Opacity</td>\n",
              "      <td>[(570.0, 282.0, 269.0, 409.0), (83.0, 227.0, 2...</td>\n",
              "      <td>2</td>\n",
              "    </tr>\n",
              "    <tr>\n",
              "      <th>001031d9-f904-4a23-b3e5-2c088acd19c6</th>\n",
              "      <td>001031d9-f904-4a23-b3e5-2c088acd19c6</td>\n",
              "      <td>1</td>\n",
              "      <td>Lung Opacity</td>\n",
              "      <td>[(66.0, 160.0, 373.0, 608.0), (552.0, 164.0, 3...</td>\n",
              "      <td>2</td>\n",
              "    </tr>\n",
              "  </tbody>\n",
              "</table>\n",
              "</div>"
            ],
            "text/plain": [
              "                                                                 patientId  ... num_of_opacities\n",
              "0004cfab-14fd-4e49-80ba-63a80b6bddd6  0004cfab-14fd-4e49-80ba-63a80b6bddd6  ...                0\n",
              "000924cf-0f8d-42bd-9158-1af53881a557  000924cf-0f8d-42bd-9158-1af53881a557  ...                0\n",
              "000db696-cf54-4385-b10b-6b16fbb3f985  000db696-cf54-4385-b10b-6b16fbb3f985  ...                2\n",
              "000fe35a-2649-43d4-b027-e67796d412e0  000fe35a-2649-43d4-b027-e67796d412e0  ...                2\n",
              "001031d9-f904-4a23-b3e5-2c088acd19c6  001031d9-f904-4a23-b3e5-2c088acd19c6  ...                2\n",
              "\n",
              "[5 rows x 5 columns]"
            ]
          },
          "metadata": {
            "tags": []
          }
        },
        {
          "output_type": "stream",
          "text": [
            "\n",
            "Shape of training labels with bounding box list:  (26684, 5)\n"
          ],
          "name": "stdout"
        }
      ]
    },
    {
      "cell_type": "code",
      "metadata": {
        "id": "yB3BI7d4xesO",
        "colab": {
          "base_uri": "https://localhost:8080/"
        },
        "outputId": "9d7488c6-40a7-4470-b9d6-f691a50b5601"
      },
      "source": [
        "print('As the data available for training is large, we can build a data generator class that can help in building the input data \\\r\n",
        "in batches to avoid overwhelming the system memory.')\r\n",
        "print('We can extend the keras sequence class to get the data generator.')\r\n",
        "\r\n",
        "class LungDataGenerator(keras.utils.Sequence):\r\n",
        "    def __init__(self, patientIds, batch_size=32, dim=(1024,1024), shuffle=True):\r\n",
        "        self.patientIds = patientIds\r\n",
        "        self.batch_size = batch_size\r\n",
        "        self.dim=dim\r\n",
        "        self.shuffle = shuffle\r\n",
        "        self.on_epoch_end()\r\n",
        "        \r\n",
        "    def __load__(self, patientIds):\r\n",
        "        # Load the dicom file as a numpy array\r\n",
        "        dicom_image = pydicom.dcmread(trainDicomFiles[patientIds]).pixel_array\r\n",
        "\r\n",
        "        targetLabelDf = trainLabelAndBoundingBoxDf.loc[patientIds]\r\n",
        "        \r\n",
        "        dicom_image = cv2.resize(dicom_image, (self.dim[0], self.dim[1]))\r\n",
        "        dicom_image = np.expand_dims(dicom_image, -1)\r\n",
        "        target = targetLabelDf['target']\r\n",
        "        return dicom_image, target\r\n",
        "\r\n",
        "    def __len__(self):\r\n",
        "        # Represents the number of batches per epoch\r\n",
        "        return int(len(self.patientIds) / self.batch_size)\r\n",
        "    \r\n",
        "    def __getitem__(self, index):\r\n",
        "        # Generates the indexes associated with one batch\r\n",
        "        targetPatientIds = self.patientIds[index * self.batch_size : (index + 1) * self.batch_size]\r\n",
        "        \r\n",
        "        items = [self.__load__(id) for id in targetPatientIds]\r\n",
        "        \r\n",
        "        imgs, targets  = zip(*items)\r\n",
        "\r\n",
        "        # Create numpy batch\r\n",
        "        imgs = np.array(imgs)\r\n",
        "        targets = np.array(targets)\r\n",
        "        return imgs, targets\r\n",
        "        \r\n",
        "    def on_epoch_end(self):\r\n",
        "        # Shuffles the data after every epoch\r\n",
        "        if self.shuffle:\r\n",
        "            np.random.shuffle(self.patientIds)"
      ],
      "execution_count": null,
      "outputs": [
        {
          "output_type": "stream",
          "text": [
            "As the data available for training is large, we can build a data generator class that can help in building the input data in batches to avoid overwhelming the system memory.\n",
            "We can extend the keras sequence class to get the data generator.\n"
          ],
          "name": "stdout"
        }
      ]
    },
    {
      "cell_type": "code",
      "metadata": {
        "id": "XpyDDN46xnuz",
        "colab": {
          "base_uri": "https://localhost:8080/"
        },
        "outputId": "6f6a0837-ee4b-4bbb-96cb-ffa53c21821d"
      },
      "source": [
        "print('Now we can define the metrics for loss reduction as below:')\r\n",
        "\r\n",
        "print('loss')\r\n",
        "def bce_loss(y_true, y_pred):\r\n",
        "    return keras.losses.binary_crossentropy(y_true, y_pred)\r\n",
        "\r\n"
      ],
      "execution_count": null,
      "outputs": [
        {
          "output_type": "stream",
          "text": [
            "Now we can define the metrics for loss reduction as below:\n",
            "loss\n"
          ],
          "name": "stdout"
        }
      ]
    },
    {
      "cell_type": "code",
      "metadata": {
        "id": "SHWNbGfGxu8c",
        "colab": {
          "base_uri": "https://localhost:8080/"
        },
        "outputId": "b178ec5c-764c-4900-d149-538bd236fae1"
      },
      "source": [
        "\r\n",
        "from tensorflow.keras.models import Model\r\n",
        "from tensorflow.keras.layers import concatenate\r\n",
        "from tensorflow.keras.layers import Input, Convolution2D, MaxPooling2D, UpSampling2D, Flatten, Dropout, Activation, Dense\r\n",
        "\r\n",
        "def LeNet(input_shape=(64,64,1), k_size=3):\r\n",
        "\r\n",
        "    data = keras.Input(shape=input_shape)\r\n",
        "    conv1 = Convolution2D(filters=64, kernel_size=k_size, padding='same', activation='relu')(data)\r\n",
        "    pool1 = MaxPooling2D(pool_size=(2, 2))(conv1)\r\n",
        "    \r\n",
        "    conv2 = Convolution2D(filters=128, kernel_size=k_size, padding='same', activation='relu')(pool1)\r\n",
        "    pool2 = MaxPooling2D(pool_size=(2, 2))(conv2)\r\n",
        "\r\n",
        "    conv3 = Convolution2D(filters=256, kernel_size=k_size, padding='same', activation='relu')(pool2)\r\n",
        "    pool3 = MaxPooling2D(pool_size=(2, 2))(conv3)\r\n",
        "\r\n",
        "    conv4 = Convolution2D(filters=512, kernel_size=k_size, padding='same', activation='relu')(pool3)\r\n",
        "    pool4 = MaxPooling2D(pool_size=(2, 2))(conv4)\r\n",
        "\r\n",
        "    conv5 = Convolution2D(filters=1024, kernel_size=k_size, padding='same', activation='relu')(pool4)\r\n",
        "    pool5 = MaxPooling2D(pool_size=(2, 2))(conv5)\r\n",
        "\r\n",
        "    conv6 = Convolution2D(filters=2048, kernel_size=k_size, padding='same', activation='relu')(pool5)\r\n",
        "    pool6 = MaxPooling2D(pool_size=(2, 2))(conv6)\r\n",
        "\r\n",
        "    flatten = Flatten()(pool6)\r\n",
        "    \r\n",
        "    dense1 = Dense(2048, activation='relu')(flatten)\r\n",
        "    \r\n",
        "    dense2 = Dense(1024, activation='relu')(dense1)\r\n",
        "    \r\n",
        "    dense3 = Dense(512, activation='relu')(dense2)\r\n",
        "    \r\n",
        "    dense4 = Dense(256, activation='relu')(dense3)\r\n",
        "\r\n",
        "    dense5 = Dense(128, activation='relu')(dense4)\r\n",
        "    \r\n",
        "    dense6 = Dense(64, activation='relu')(dense5)\r\n",
        "   \r\n",
        "    dense7 = Dense(1, activation = 'sigmoid')(dense6)#activation='softmax'\r\n",
        "\r\n",
        "    output = dense7\r\n",
        "    model = Model(data, output)\r\n",
        "    return model\r\n",
        "\r\n",
        "\r\n",
        "\r\n",
        "print('Generating Improved LeNet-5 network instance.')\r\n",
        "lenet_model = LeNet()\r\n",
        "lenet_model.compile(optimizer='adam', loss=bce_loss, metrics=['accuracy'])\r\n",
        "\r\n",
        "epoch_count = 5\r\n",
        "\r\n",
        "# Define cosine annealing\r\n",
        "def cosine_annealing(x):\r\n",
        "    lr = 0.001\r\n",
        "    epochs = epoch_count\r\n",
        "    return lr * (np.cos(np.pi * x / epochs) + 1.) / 2\r\n",
        "\r\n",
        "lenet_model.summary()\r\n"
      ],
      "execution_count": null,
      "outputs": [
        {
          "output_type": "stream",
          "text": [
            "Generating Improved LeNet-5 network instance.\n",
            "Model: \"model_1\"\n",
            "_________________________________________________________________\n",
            "Layer (type)                 Output Shape              Param #   \n",
            "=================================================================\n",
            "input_2 (InputLayer)         [(None, 64, 64, 1)]       0         \n",
            "_________________________________________________________________\n",
            "conv2d_6 (Conv2D)            (None, 64, 64, 64)        640       \n",
            "_________________________________________________________________\n",
            "max_pooling2d_6 (MaxPooling2 (None, 32, 32, 64)        0         \n",
            "_________________________________________________________________\n",
            "conv2d_7 (Conv2D)            (None, 32, 32, 128)       73856     \n",
            "_________________________________________________________________\n",
            "max_pooling2d_7 (MaxPooling2 (None, 16, 16, 128)       0         \n",
            "_________________________________________________________________\n",
            "conv2d_8 (Conv2D)            (None, 16, 16, 256)       295168    \n",
            "_________________________________________________________________\n",
            "max_pooling2d_8 (MaxPooling2 (None, 8, 8, 256)         0         \n",
            "_________________________________________________________________\n",
            "conv2d_9 (Conv2D)            (None, 8, 8, 512)         1180160   \n",
            "_________________________________________________________________\n",
            "max_pooling2d_9 (MaxPooling2 (None, 4, 4, 512)         0         \n",
            "_________________________________________________________________\n",
            "conv2d_10 (Conv2D)           (None, 4, 4, 1024)        4719616   \n",
            "_________________________________________________________________\n",
            "max_pooling2d_10 (MaxPooling (None, 2, 2, 1024)        0         \n",
            "_________________________________________________________________\n",
            "conv2d_11 (Conv2D)           (None, 2, 2, 2048)        18876416  \n",
            "_________________________________________________________________\n",
            "max_pooling2d_11 (MaxPooling (None, 1, 1, 2048)        0         \n",
            "_________________________________________________________________\n",
            "flatten_1 (Flatten)          (None, 2048)              0         \n",
            "_________________________________________________________________\n",
            "dense_7 (Dense)              (None, 2048)              4196352   \n",
            "_________________________________________________________________\n",
            "dense_8 (Dense)              (None, 1024)              2098176   \n",
            "_________________________________________________________________\n",
            "dense_9 (Dense)              (None, 512)               524800    \n",
            "_________________________________________________________________\n",
            "dense_10 (Dense)             (None, 256)               131328    \n",
            "_________________________________________________________________\n",
            "dense_11 (Dense)             (None, 128)               32896     \n",
            "_________________________________________________________________\n",
            "dense_12 (Dense)             (None, 64)                8256      \n",
            "_________________________________________________________________\n",
            "dense_13 (Dense)             (None, 1)                 65        \n",
            "=================================================================\n",
            "Total params: 32,137,729\n",
            "Trainable params: 32,137,729\n",
            "Non-trainable params: 0\n",
            "_________________________________________________________________\n"
          ],
          "name": "stdout"
        }
      ]
    },
    {
      "cell_type": "code",
      "metadata": {
        "id": "II8UQFQteVMb",
        "colab": {
          "base_uri": "https://localhost:8080/"
        },
        "outputId": "ee22e8c2-8127-4369-d31e-d901750150d8"
      },
      "source": [
        "print('Training the model.')\r\n",
        "learning_rate = tf.keras.callbacks.LearningRateScheduler(cosine_annealing)\r\n",
        "\r\n",
        "training_data_percent = 0.7\r\n",
        "training_data_end_index = int(trainLabelAndBoundingBoxDf.shape[0] * training_data_percent)\r\n",
        "training_patientIds_box = trainLabelAndBoundingBoxDf['patientId'][0:training_data_end_index]\r\n",
        "validation_patientIds_box = trainLabelAndBoundingBoxDf['patientId'][training_data_end_index:]\r\n",
        "\r\n",
        "params = {'dim': (64, 64), 'batch_size': 32, 'shuffle': True}\r\n",
        "training_data_generator_box = LungDataGenerator(training_patientIds_box, **params)\r\n",
        "\r\n",
        "validation_data_generator_box = LungDataGenerator(validation_patientIds_box, **params)\r\n",
        "\r\n",
        "history = lenet_model.fit(training_data_generator_box, validation_data=validation_data_generator_box, callbacks=[learning_rate], epochs=epoch_count, workers=4, use_multiprocessing=False)"
      ],
      "execution_count": null,
      "outputs": [
        {
          "output_type": "stream",
          "text": [
            "Training the model.\n",
            "Epoch 1/5\n",
            "583/583 [==============================] - 189s 322ms/step - loss: 1.2660 - accuracy: 0.7594 - val_loss: 0.4286 - val_accuracy: 0.8384\n",
            "Epoch 2/5\n",
            "583/583 [==============================] - 187s 320ms/step - loss: 0.4565 - accuracy: 0.7855 - val_loss: 0.3804 - val_accuracy: 0.8332\n",
            "Epoch 3/5\n",
            "583/583 [==============================] - 187s 319ms/step - loss: 0.4465 - accuracy: 0.7936 - val_loss: 0.3731 - val_accuracy: 0.8351\n",
            "Epoch 4/5\n",
            "583/583 [==============================] - 187s 320ms/step - loss: 0.4288 - accuracy: 0.8007 - val_loss: 0.4409 - val_accuracy: 0.7977\n",
            "Epoch 5/5\n",
            "583/583 [==============================] - 187s 320ms/step - loss: 0.4087 - accuracy: 0.8128 - val_loss: 0.3759 - val_accuracy: 0.8340\n"
          ],
          "name": "stdout"
        }
      ]
    },
    {
      "cell_type": "code",
      "metadata": {
        "id": "1a8loUk4TIF8",
        "colab": {
          "base_uri": "https://localhost:8080/",
          "height": 391
        },
        "outputId": "598865a9-8245-421a-8af2-7e8786caf6e7"
      },
      "source": [
        "print('Below is the representation of variation of loss')\r\n",
        "plt.figure(figsize=(15,6))\r\n",
        "\r\n",
        "plt.plot(history.epoch, history.history[\"loss\"], label=\"Train loss\")\r\n",
        "plt.plot(history.epoch, history.history[\"val_loss\"], label=\"Valid loss\")\r\n",
        "plt.legend()\r\n",
        "\r\n",
        "plt.show()"
      ],
      "execution_count": null,
      "outputs": [
        {
          "output_type": "stream",
          "text": [
            "Below is the representation of variation of loss\n"
          ],
          "name": "stdout"
        },
        {
          "output_type": "display_data",
          "data": {
            "image/png": "[encoded data removed]",
            "text/plain": [
              "<Figure size 1080x432 with 1 Axes>"
            ]
          },
          "metadata": {
            "tags": [],
            "needs_background": "light"
          }
        }
      ]
    },
    {
      "cell_type": "code",
      "metadata": {
        "colab": {
          "base_uri": "https://localhost:8080/",
          "height": 486
        },
        "id": "Egbft0b7O-x_",
        "outputId": "15377a2a-64f1-45b0-f748-8402287ab8c1"
      },
      "source": [
        "print('We can generate the y_pred and y_true arrays to hold the target values (predicted and actual) for all the validation \\\r\n",
        "data points.')\r\n",
        "from functools import reduce\r\n",
        "y_pred = []\r\n",
        "y_true = []\r\n",
        "\r\n",
        "for imgs, targets in validation_data_generator_box:\r\n",
        "    predictions = lenet_model.predict(imgs)\r\n",
        "    \r\n",
        "    # Loop through the predictions along with the actual targets\r\n",
        "    \r\n",
        "    \r\n",
        "    comp = predictions[:] > 0.5\r\n",
        "\r\n",
        "    comp = [int(elem) for elem in comp]\r\n",
        "        \r\n",
        "    y_pred.append(comp)\r\n",
        "    y_true.append(targets)\r\n",
        "\r\n",
        "y_pred = reduce(lambda x,y: x+y,y_pred)  \r\n",
        "y_true = [item for sublist in y_true for item in sublist]\r\n",
        "print('Based on the actual and predicted target values, we can display the confusion matrix as below.')\r\n",
        "from sklearn.metrics import confusion_matrix, classification_report\r\n",
        "cm = confusion_matrix(y_true, y_pred)\r\n",
        "ax = sns.heatmap(cm, annot=True, fmt='d')\r\n",
        "plt.show()\r\n",
        "\r\n",
        "print('\\nBelow is the classification report based on the actual and predicted target values.')\r\n",
        "print(classification_report(y_true, y_pred, labels=[0,1]))"
      ],
      "execution_count": null,
      "outputs": [
        {
          "output_type": "stream",
          "text": [
            "We can generate the y_pred and y_true arrays to hold the target values (predicted and actual) for all the validation data points.\n",
            "Based on the actual and predicted target values, we can display the confusion matrix as below.\n"
          ],
          "name": "stdout"
        },
        {
          "output_type": "display_data",
          "data": {
            "image/png": "[encoded data removed]",
            "text/plain": [
              "<Figure size 432x288 with 2 Axes>"
            ]
          },
          "metadata": {
            "tags": [],
            "needs_background": "light"
          }
        },
        {
          "output_type": "stream",
          "text": [
            "\n",
            "Below is the classification report based on the actual and predicted target values.\n",
            "              precision    recall  f1-score   support\n",
            "\n",
            "           0       0.89      0.91      0.90      6594\n",
            "           1       0.53      0.49      0.51      1406\n",
            "\n",
            "    accuracy                           0.83      8000\n",
            "   macro avg       0.71      0.70      0.71      8000\n",
            "weighted avg       0.83      0.83      0.83      8000\n",
            "\n"
          ],
          "name": "stdout"
        }
      ]
    },
    {
      "cell_type": "markdown",
      "metadata": {
        "id": "Umrz3Hp2f4TA"
      },
      "source": [
        "Reference : \"A Pneumonia Detection Method Based on Improved\r\n",
        "Convolutional Neural Network\"by Xin Li , Fan Chen , Haijiang Hao , Mengting Li "
      ]
    }
  ]
}