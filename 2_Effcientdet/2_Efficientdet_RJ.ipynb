{
 "cells": [
  {
   "cell_type": "markdown",
   "metadata": {
    "id": "GI9KZ3F8TLSK",
    "pycharm": {
     "name": "#%% md\n"
    }
   },
   "source": [
    "<a name='index'></a>\n",
    "# Index\n",
    "* [Step 1 - Import required libraries](#step-1)\n",
    "* [Step 2 - Git clone Yet-Another-EfficientDet](#step-2)\n",
    "* [Step 3 - CSV to JSON (Coco dataset)](#step-3)\n",
    "* [Step 4 - Mount Google drive](#step-4)\n",
    "* [Step 5 - Run and create yolo dataset](#step-5)\n",
    "* [Step 6 - Train Efficientdet model](#step-6)\n",
    "* [Step 7 - Evaluate Efficientdet model](#step-7)\n",
    "* [Step 8 - Inference Test data results](#step-8)\n",
    "* [Step 9 - Visualize Test results](#step-9)"
   ]
  },
  {
   "cell_type": "markdown",
   "metadata": {
    "id": "6ud023MJWOHb"
   },
   "source": [
    "<a name='step-1'></a>\n",
    "### **Step 1**: Import required libraries\n",
    "[Back to Index](#index)"
   ]
  },
  {
   "cell_type": "code",
   "execution_count": null,
   "metadata": {
    "id": "90laRz20TLSN",
    "pycharm": {
     "name": "#%%\n"
    }
   },
   "outputs": [],
   "source": [
    "!pip install -q pycocotools \n",
    "!pip install -q numpy==1.16.0\n",
    "!pip install -q opencv-python \n",
    "!pip install -q tqdm \n",
    "!pip install -q tensorboard \n",
    "!pip install -q tensorboardX \n",
    "!pip install -q pyyaml \n",
    "!pip install -q webcolors \n",
    "!pip install -q matplotlib\n",
    "!pip install -q torch==1.4.0\n",
    "!pip install -q torchvision==0.5.0"
   ]
  },
  {
   "cell_type": "code",
   "execution_count": null,
   "metadata": {
    "id": "hPhwqCrxm8Bz"
   },
   "outputs": [],
   "source": [
    "from tqdm.notebook import tqdm\n",
    "import pandas as pd\n",
    "from PIL import Image\n",
    "from datetime import datetime\n",
    "from matplotlib import patches"
   ]
  },
  {
   "cell_type": "markdown",
   "metadata": {
    "id": "HDeosn2dWc-H"
   },
   "source": [
    "<a name='step-2'></a>\n",
    "### **Step 2**: Git clone Yet-Another-EfficientDet\n",
    "[Back to Index](#index)"
   ]
  },
  {
   "cell_type": "code",
   "execution_count": null,
   "metadata": {
    "id": "YXVmJvgTQhkc"
   },
   "outputs": [],
   "source": [
    "import os\n",
    "import sys\n",
    "from IPython.display import clear_output\n",
    "!git clone --depth 1 https://github.com/zylo117/Yet-Another-EfficientDet-Pytorch\n",
    "os.chdir('Yet-Another-EfficientDet-Pytorch')\n",
    "sys.path.append('.')\n",
    "! mkdir weights\n",
    "! wget https://github.com/zylo117/Yet-Another-EfficientDet-Pytorch/releases/download/1.0/efficientdet-d0.pth -O weights/efficientdet-d0.pth\n",
    "clear_output()"
   ]
  },
  {
   "cell_type": "code",
   "execution_count": null,
   "metadata": {
    "id": "uEDHMAIJTLSc",
    "pycharm": {
     "name": "#%%\n"
    }
   },
   "outputs": [],
   "source": [
    "import torch\n",
    "from torch.backends import cudnn\n",
    "\n",
    "from backbone import EfficientDetBackbone\n",
    "import cv2\n",
    "import matplotlib.pyplot as plt\n",
    "import numpy as np\n",
    "\n",
    "from efficientdet.utils import BBoxTransform, ClipBoxes\n",
    "from utils.utils import preprocess, invert_affine, postprocess"
   ]
  },
  {
   "cell_type": "markdown",
   "metadata": {
    "id": "Qj1s_eadW7k3"
   },
   "source": [
    "<a name='step-3'></a>\n",
    "### **Step 3**: CSV to JSON (Coco dataset)\n",
    "[Back to Index](#index)"
   ]
  },
  {
   "cell_type": "code",
   "execution_count": null,
   "metadata": {
    "id": "IcCL20ziVhU-"
   },
   "outputs": [],
   "source": [
    "# import numpy as np\n",
    "# import json\n",
    "# import pandas as pd\n",
    "\n",
    "# path = '/content/drive/MyDrive/rsna/coco_data_format/rsna_coco_val.csv'\n",
    "# save_json_path = '/content/drive/MyDrive/rsna/coco_data_format/rsna_coco_val.json'\n",
    "\n",
    "\n",
    "# data = pd.read_csv(path)\n",
    "\n",
    "# images = []\n",
    "# categories = []\n",
    "# annotations = []\n",
    "\n",
    "# category = {}\n",
    "# category[\"supercategory\"] = 'none'\n",
    "# category[\"id\"] = 0\n",
    "# category[\"name\"] = 'None'\n",
    "# categories.append(category)\n",
    "\n",
    "# data['fileid'] = data['filename'].astype('category').cat.codes\n",
    "# data['categoryid']= pd.Categorical(data['class'],ordered= True).codes\n",
    "# data['categoryid'] = data['categoryid']+1\n",
    "# data['annid'] = data.index\n",
    "\n",
    "# def image(row):\n",
    "#     image = {}\n",
    "#     image[\"height\"] = row.height\n",
    "#     image[\"width\"] = row.width\n",
    "#     image[\"id\"] = row.fileid\n",
    "#     image[\"file_name\"] = row.filename\n",
    "#     return image\n",
    "\n",
    "# def category(row):\n",
    "#     category = {}\n",
    "#     category[\"supercategory\"] = 'None'\n",
    "#     category[\"id\"] = row.categoryid\n",
    "#     category[\"name\"] = row[2]\n",
    "#     return category\n",
    "\n",
    "# def annotation(row):\n",
    "#     annotation = {}\n",
    "#     area = (row.xmax -row.xmin)*(row.ymax - row.ymin)\n",
    "#     annotation[\"segmentation\"] = []\n",
    "#     annotation[\"iscrowd\"] = 0\n",
    "#     annotation[\"area\"] = area\n",
    "#     annotation[\"image_id\"] = row.fileid\n",
    "\n",
    "#     annotation[\"bbox\"] = [row.xmin, row.ymin, row.xmax -row.xmin,row.ymax-row.ymin ]\n",
    "\n",
    "#     annotation[\"category_id\"] = row.categoryid\n",
    "#     annotation[\"id\"] = row.annid\n",
    "#     return annotation\n",
    "\n",
    "# for row in data.itertuples():\n",
    "#     annotations.append(annotation(row))\n",
    "\n",
    "# imagedf = data.drop_duplicates(subset=['fileid']).sort_values(by='fileid')\n",
    "# for row in imagedf.itertuples():\n",
    "#     images.append(image(row))\n",
    "\n",
    "# catdf = data.drop_duplicates(subset=['categoryid']).sort_values(by='categoryid')\n",
    "# for row in catdf.itertuples():\n",
    "#     categories.append(category(row))\n",
    "\n",
    "# data_coco = {}\n",
    "# data_coco[\"images\"] = images\n",
    "# data_coco[\"categories\"] = categories\n",
    "# data_coco[\"annotations\"] = annotations\n",
    "\n",
    "\n",
    "# json.dump(data_coco, open(save_json_path, \"w\"), indent=4)"
   ]
  },
  {
   "cell_type": "markdown",
   "metadata": {
    "id": "VM40D-2xYN2B"
   },
   "source": [
    "<a name='step-4'></a>\n",
    "### **Step 4**: Mount Google drive\n",
    "[Back to Index](#index)"
   ]
  },
  {
   "cell_type": "code",
   "execution_count": null,
   "metadata": {
    "colab": {
     "base_uri": "https://localhost:8080/"
    },
    "id": "eZidGN2jRPyL",
    "outputId": "8ea10bfc-9c83-4372-f82b-95c035a92e71"
   },
   "outputs": [
    {
     "name": "stdout",
     "output_type": "stream",
     "text": [
      "Mounted at /content/drive\n"
     ]
    }
   ],
   "source": [
    "from google.colab import drive\n",
    "drive.mount('/content/drive')"
   ]
  },
  {
   "cell_type": "markdown",
   "metadata": {
    "id": "XqZDfE_CY7j7"
   },
   "source": [
    "<a name='step-5'></a>\n",
    "### **Step 5**: Copy rsna data to datasets folder\n",
    "[Back to Index](#index)"
   ]
  },
  {
   "cell_type": "code",
   "execution_count": null,
   "metadata": {
    "id": "ues_96onxzZX"
   },
   "outputs": [],
   "source": [
    "! mkdir datasets\n",
    "\n",
    "%cp -r \\\n",
    "\"/content/drive/MyDrive/rsna/dataset_formats/coco/eff_data/rsna\" \\\n",
    "\"/content/Yet-Another-EfficientDet-Pytorch/datasets\"\n",
    "\n",
    "%cp -r \\\n",
    "\"/content/drive/MyDrive/rsna/dataset_formats/coco/eff_data/rsna.yml\" \\\n",
    "\"/content/Yet-Another-EfficientDet-Pytorch/projects\""
   ]
  },
  {
   "cell_type": "markdown",
   "metadata": {
    "id": "7Q2onXNZTLSV"
   },
   "source": [
    "<a name='step-6'></a>\n",
    "### **Step 6**: Train Efficientdet model\n",
    "[Back to Index](#index)"
   ]
  },
  {
   "cell_type": "code",
   "execution_count": null,
   "metadata": {
    "colab": {
     "base_uri": "https://localhost:8080/"
    },
    "id": "a-eznEu5TLSW",
    "outputId": "12009cd4-11ea-487a-b0b4-9feedafdbaf2",
    "pycharm": {
     "name": "#%%\n"
    }
   },
   "outputs": [
    {
     "name": "stdout",
     "output_type": "stream",
     "text": [
      "loading annotations into memory...\n",
      "Done (t=0.07s)\n",
      "creating index...\n",
      "index created!\n",
      "loading annotations into memory...\n",
      "Done (t=0.00s)\n",
      "creating index...\n",
      "index created!\n",
      "[Warning] Ignoring Error(s) in loading state_dict for EfficientDetBackbone:\n",
      "\tsize mismatch for classifier.header.pointwise_conv.conv.weight: copying a param with shape torch.Size([810, 64, 1, 1]) from checkpoint, the shape in current model is torch.Size([9, 64, 1, 1]).\n",
      "\tsize mismatch for classifier.header.pointwise_conv.conv.bias: copying a param with shape torch.Size([810]) from checkpoint, the shape in current model is torch.Size([9]).\n",
      "[Warning] Don't panic if you see this, this might be because you load a pretrained weights with different number of classes. The rest of the weights should be loaded already.\n",
      "[Info] loaded weights: efficientdet-d0.pth, resuming checkpoint from step: 0\n",
      "[Info] freezed backbone\n",
      "Step: 168. Epoch: 0/1. Iteration: 169/169. Cls loss: 0.62961. Reg loss: 5.06740. Total loss: 5.69701: 100% 169/169 [04:45<00:00,  1.69s/it]\n",
      "Val. Epoch: 0/1. Classification loss: 0.56737. Regression loss: 4.60080. Total loss: 5.16816\n"
     ]
    }
   ],
   "source": [
    "! python train.py -c 0 \\\n",
    "                  -p rsna \\\n",
    "                  --head_only True \\\n",
    "                  --lr 5e-2 \\\n",
    "                  --batch_size 32 \\\n",
    "                  --load_weights weights/efficientdet-d0.pth  \\\n",
    "                  --num_epochs 1 \\\n",
    "                  #--save_interval 100\n",
    "%cp \\\n",
    "\"/content/Yet-Another-EfficientDet-Pytorch/logs/rsna/efficientdet-d0_0_169.pth\" \\\n",
    "\"/content/drive/MyDrive/rsna/weights/efficientdet-d0_0_169.pth\""
   ]
  },
  {
   "cell_type": "markdown",
   "metadata": {
    "id": "05mjrGRETLSZ"
   },
   "source": [
    "<a name='step-7'></a>\n",
    "### **Step 7**: Evaluate Efficientdet model\n",
    "[Back to Index](#index)"
   ]
  },
  {
   "cell_type": "code",
   "execution_count": null,
   "metadata": {
    "colab": {
     "base_uri": "https://localhost:8080/"
    },
    "id": "9yzNyaSxTLSZ",
    "outputId": "d640da4a-0938-4e1b-9277-c53cd37c5fa1",
    "pycharm": {
     "name": "#%%\n"
    }
   },
   "outputs": [
    {
     "name": "stdout",
     "output_type": "stream",
     "text": [
      "/content/Yet-Another-EfficientDet-Pytorch/logs/rsna\n",
      "/content/Yet-Another-EfficientDet-Pytorch\n",
      "running coco-style evaluation on project rsna, weights logs/rsna/efficientdet-d0_0_169.pth...\n",
      "loading annotations into memory...\n",
      "Done (t=0.00s)\n",
      "creating index...\n",
      "index created!\n",
      "100% 602/602 [00:50<00:00, 11.97it/s]\n",
      "Loading and preparing results...\n",
      "DONE (t=1.43s)\n",
      "creating index...\n",
      "index created!\n",
      "BBox\n",
      "Running per image evaluation...\n",
      "Evaluate annotation type *bbox*\n",
      "DONE (t=4.00s).\n",
      "Accumulating evaluation results...\n",
      "DONE (t=0.44s).\n",
      " Average Precision  (AP) @[ IoU=0.50:0.95 | area=   all | maxDets=100 ] = 0.009\n",
      " Average Precision  (AP) @[ IoU=0.50      | area=   all | maxDets=100 ] = 0.041\n",
      " Average Precision  (AP) @[ IoU=0.75      | area=   all | maxDets=100 ] = 0.000\n",
      " Average Precision  (AP) @[ IoU=0.50:0.95 | area= small | maxDets=100 ] = -1.000\n",
      " Average Precision  (AP) @[ IoU=0.50:0.95 | area=medium | maxDets=100 ] = 0.000\n",
      " Average Precision  (AP) @[ IoU=0.50:0.95 | area= large | maxDets=100 ] = 0.009\n",
      " Average Recall     (AR) @[ IoU=0.50:0.95 | area=   all | maxDets=  1 ] = 0.014\n",
      " Average Recall     (AR) @[ IoU=0.50:0.95 | area=   all | maxDets= 10 ] = 0.101\n",
      " Average Recall     (AR) @[ IoU=0.50:0.95 | area=   all | maxDets=100 ] = 0.288\n",
      " Average Recall     (AR) @[ IoU=0.50:0.95 | area= small | maxDets=100 ] = -1.000\n",
      " Average Recall     (AR) @[ IoU=0.50:0.95 | area=medium | maxDets=100 ] = 0.000\n",
      " Average Recall     (AR) @[ IoU=0.50:0.95 | area= large | maxDets=100 ] = 0.290\n"
     ]
    }
   ],
   "source": [
    "#get latest weight file\n",
    "%cd logs/rsna\n",
    "weight_file = !ls -Art | grep efficientdet\n",
    "%cd ../..\n",
    "\n",
    "weight_file[-1] = 'efficientdet-d0_0_169.pth'\n",
    "\n",
    "! python coco_eval.py -c 0 \\\n",
    "                      -p rsna \\\n",
    "                      -w \"logs/rsna/{weight_file[-1]}\""
   ]
  },
  {
   "cell_type": "markdown",
   "metadata": {
    "id": "zhV3bNF3TLSc",
    "pycharm": {
     "name": "#%% md\n"
    }
   },
   "source": [
    "<a name='step-8'></a>\n",
    "### **Step 8**: Inference Test data results\n",
    "[Back to Index](#index)"
   ]
  },
  {
   "cell_type": "code",
   "execution_count": null,
   "metadata": {
    "id": "Ae1c-d2KKuu-"
   },
   "outputs": [],
   "source": [
    "def inference(base_dir,patients_list,threshold,weight_path):\n",
    "  results = {\n",
    "    \"patientId\":[],\n",
    "    \"PredictionString\":[]\n",
    "  }\n",
    "  for pid in tqdm(patients_list):\n",
    "    compound_coef = 0\n",
    "    force_input_size = None  # set None to use default size\n",
    "    # results[\"patientId\"].append(img_path\\\n",
    "    #                  .split(\"/\")[-1]\\\n",
    "    #                  .split(\".\")[0]\n",
    "    #                  )\n",
    "    results[\"patientId\"].append(\n",
    "        pid\n",
    "    )\n",
    "    img_path = os.path.join(\n",
    "        base_dir,\n",
    "        pid+\".jpg\"\n",
    "    )\n",
    "    #print(img_path)\n",
    "    #img_path = '/content/Yet-Another-EfficientDet-Pytorch/datasets/rsna/validation/03f8bb03-eb04-4365-ac4d-d63d2b5d49cc.jpg'\n",
    "    #img_path = \"/content/Yet-Another-EfficientDet-Pytorch/datasets/shape/val/904.jpg\"\n",
    "    # threshold = 0.29\n",
    "    # iou_threshold = 0.29\n",
    "    threshold = threshold\n",
    "    iou_threshold = threshold\n",
    "\n",
    "    use_cuda = True\n",
    "    use_float16 = False\n",
    "    cudnn.fastest = True\n",
    "    cudnn.benchmark = True\n",
    "\n",
    "    obj_list = [ 'Pneumonia' ]\n",
    "\n",
    "    input_sizes = [512, 640, 768, 896, 1024, 1280, 1280, 1536]\n",
    "    input_size = input_sizes[compound_coef] if force_input_size is None else force_input_size\n",
    "    ori_imgs, framed_imgs, framed_metas = preprocess(img_path, max_size=input_size)\n",
    "\n",
    "    if use_cuda:\n",
    "        x = torch.stack([torch.from_numpy(fi).cuda() for fi in framed_imgs], 0)\n",
    "    else:\n",
    "        x = torch.stack([torch.from_numpy(fi) for fi in framed_imgs], 0)\n",
    "\n",
    "    x = x.to(torch.float32 if not use_float16 else torch.float16).permute(0, 3, 1, 2)\n",
    "\n",
    "    model = EfficientDetBackbone(compound_coef=compound_coef, num_classes=len(obj_list),\n",
    "\n",
    "                                # replace this part with your project's anchor config\n",
    "                                ratios=[(1.0, 1.0), (1.3, 0.8), (1.9, 0.5)],\n",
    "                                scales=[2 ** 0, 2 ** (1.0 / 3.0), 2 ** (2.0 / 3.0)])\n",
    "\n",
    "    #model.load_state_dict(torch.load('logs/rsna/'+weight_file[-1]))\n",
    "    weight_path\n",
    "    model.load_state_dict(torch.load(weight_path))\n",
    "    model.requires_grad_(False)\n",
    "    model.eval()\n",
    "\n",
    "    if use_cuda:\n",
    "        model = model.cuda()\n",
    "    if use_float16:\n",
    "        model = model.half()\n",
    "\n",
    "    with torch.no_grad():\n",
    "        features, regression, classification, anchors = model(x)\n",
    "\n",
    "        regressBoxes = BBoxTransform()\n",
    "        clipBoxes = ClipBoxes()\n",
    "\n",
    "        out = postprocess(x,\n",
    "                          anchors, regression, classification,\n",
    "                          regressBoxes, clipBoxes,\n",
    "                          threshold, iou_threshold)\n",
    "\n",
    "    out = invert_affine(framed_metas, out)\n",
    "    \n",
    "    box_str = \"\"\n",
    "    for idx,score in enumerate(out[0][\"scores\"]):\n",
    "      one_box = out[0][\"rois\"][idx].round(2)\n",
    "      #print(one_box[0])\n",
    "      box = \"{} {} {} {} {}\".format(\n",
    "          str(score.round(2)),\n",
    "          str(one_box[0]),\n",
    "          str(one_box[1]),\n",
    "          str(round(one_box[2]-one_box[0],2)), \n",
    "          str(round(one_box[3]-one_box[1],2)),\n",
    "      )\n",
    "      box_str = \" \".join([box_str,box])\n",
    "    results[\"PredictionString\"].append(\n",
    "        box_str.strip()\n",
    "    )\n",
    "  return pd.DataFrame(results)"
   ]
  },
  {
   "cell_type": "code",
   "execution_count": null,
   "metadata": {
    "id": "cjg5ijO3sEBy"
   },
   "outputs": [],
   "source": [
    "%cp \\\n",
    "\"/content/Yet-Another-EfficientDet-Pytorch/logs/rsna/efficientdet-d0_0_169.pth\" \\\n",
    "\"/content/drive/MyDrive/rsna/weights/weights_27_Feb.pth\""
   ]
  },
  {
   "cell_type": "code",
   "execution_count": null,
   "metadata": {
    "colab": {
     "base_uri": "https://localhost:8080/",
     "height": 66,
     "referenced_widgets": [
      "e63ef306dbcd4dc6bcb5f5a81d04efce",
      "2a3c948a634c42dfbb18d50a2fc4482e",
      "1e21bca11e66415f9477437f2950defe",
      "9999f70faa1b4071a7ff06c48fd1500e",
      "bf3de47085c24097bd879bce00985c66",
      "8f2c3c1089d24dfda08a56227a1e0b88",
      "b048541e707c449f9f24f1d60a97246e",
      "3039169e937e48618ff84f2250f101e2"
     ]
    },
    "id": "_Mm45fMTPg0M",
    "outputId": "709e669b-1788-4386-9393-cb047cf0ec7e"
   },
   "outputs": [
    {
     "data": {
      "application/vnd.jupyter.widget-view+json": {
       "model_id": "e63ef306dbcd4dc6bcb5f5a81d04efce",
       "version_major": 2,
       "version_minor": 0
      },
      "text/plain": [
       "HBox(children=(FloatProgress(value=0.0, max=3000.0), HTML(value='')))"
      ]
     },
     "metadata": {
      "tags": []
     },
     "output_type": "display_data"
    },
    {
     "name": "stdout",
     "output_type": "stream",
     "text": [
      "\n"
     ]
    }
   ],
   "source": [
    "weight_path = \"/content/drive/MyDrive/rsna/weights/effcientdet/efficientdet-d0_9_1600.pth\"\n",
    "test_data   = pd.read_csv(\"/content/drive/MyDrive/rsna/stage_2_sample_submission.csv\")\n",
    "test_dir    = \"/content/drive/MyDrive/rsna/jpg_stage_2_test_images\"\n",
    "test_data   = test_data[\"patientId\"].tolist()\n",
    "threshold   = 0.29\n",
    "results     = inference(test_dir,test_data,threshold,weight_path)"
   ]
  },
  {
   "cell_type": "code",
   "execution_count": null,
   "metadata": {
    "id": "nhvQvdm5d4sl"
   },
   "outputs": [],
   "source": [
    "now         = datetime.now()\n",
    "dt_string   = now.strftime(\"%d_%m_%Y_%H_%M_%S\")\n",
    "file_path   = \"/content/drive/MyDrive/rsna/rsna_results/effcientdet/\" + \"result_\"+dt_string+\".csv\"\n",
    "results.to_csv(file_path,index=False)"
   ]
  },
  {
   "cell_type": "markdown",
   "metadata": {
    "id": "YxBj1p7nepIj"
   },
   "source": [
    "<a name='step-9'></a>\n",
    "### **Step 9**: Visualize Test results\n",
    "[Back to Index](#index)"
   ]
  },
  {
   "cell_type": "code",
   "execution_count": null,
   "metadata": {
    "id": "xW-_5Ujs-twe"
   },
   "outputs": [],
   "source": [
    "def create_result_images(base_dir,df):\n",
    "  plt.figure(figsize=(10,10))\n",
    "  for idx, row in df.iterrows():\n",
    "    ax = plt.subplot(5,3,idx+1,xticks = [],yticks=[])\n",
    "    path = os.path.join(\n",
    "        base_dir,\n",
    "        row[\"patientId\"]+\".jpg\"\n",
    "        )\n",
    "    img = Image.open(path)\n",
    "    ax.imshow(img,cmap=\"gray\")\n",
    "\n",
    "    if row[\"PredictionString\"] != \"\":\n",
    "      boxes = [float(i) for i in row['PredictionString'].strip().split(\" \")]\n",
    "      for i in range(0,len(boxes),5):\n",
    "        confidence,xmin,ymin,width,height = boxes[i],\\\n",
    "                                            boxes[i+1],\\\n",
    "                                            boxes[i+2],\\\n",
    "                                            boxes[i+3],\\\n",
    "                                            boxes[i+4]\n",
    "        rect = patches.Rectangle(\n",
    "            (xmin, ymin),\n",
    "            width,\n",
    "            height,\n",
    "            linewidth=2,\n",
    "            edgecolor=\"r\",\n",
    "            facecolor=\"none\",\n",
    "        )\n",
    "        ax.add_patch(rect)\n",
    "  plt.show()\n",
    "  plt.tight_layout()"
   ]
  },
  {
   "cell_type": "code",
   "execution_count": null,
   "metadata": {
    "colab": {
     "base_uri": "https://localhost:8080/",
     "height": 483
    },
    "id": "smImHJqScCQL",
    "outputId": "bd6e43d3-7d03-469a-d9fc-adee8e376688"
   },
   "outputs": [
    {
     "data": {
      "image/png": "[encoded data removed]",
      "text/plain": [
       "<Figure size 720x720 with 10 Axes>"
      ]
     },
     "metadata": {
      "tags": []
     },
     "output_type": "display_data"
    },
    {
     "data": {
      "text/plain": [
       "<Figure size 432x288 with 0 Axes>"
      ]
     },
     "metadata": {
      "tags": []
     },
     "output_type": "display_data"
    }
   ],
   "source": [
    "create_result_images(test_dir,results.iloc[:10])"
   ]
  },
  {
   "cell_type": "markdown",
   "metadata": {
    "id": "LWtkuLjWezzd"
   },
   "source": [
    "### End of Program\n",
    "[Back to Index](#index)"
   ]
  }
 ],
 "metadata": {
  "accelerator": "GPU",
  "colab": {
   "name": "efficientdet.ipynb",
   "provenance": [],
   "toc_visible": true
  },
  "kernelspec": {
   "display_name": "Python 3",
   "language": "python",
   "name": "python3"
  },
  "language_info": {
   "codemirror_mode": {
    "name": "ipython",
    "version": 3
   },
   "file_extension": ".py",
   "mimetype": "text/x-python",
   "name": "python",
   "nbconvert_exporter": "python",
   "pygments_lexer": "ipython3",
   "version": "3.8.5"
  },
  "widgets": {
   "application/vnd.jupyter.widget-state+json": {
    "1e21bca11e66415f9477437f2950defe": {
     "model_module": "@jupyter-widgets/controls",
     "model_name": "FloatProgressModel",
     "state": {
      "_dom_classes": [],
      "_model_module": "@jupyter-widgets/controls",
      "_model_module_version": "1.5.0",
      "_model_name": "FloatProgressModel",
      "_view_count": null,
      "_view_module": "@jupyter-widgets/controls",
      "_view_module_version": "1.5.0",
      "_view_name": "ProgressView",
      "bar_style": "success",
      "description": "100%",
      "description_tooltip": null,
      "layout": "IPY_MODEL_8f2c3c1089d24dfda08a56227a1e0b88",
      "max": 3000,
      "min": 0,
      "orientation": "horizontal",
      "style": "IPY_MODEL_bf3de47085c24097bd879bce00985c66",
      "value": 3000
     }
    },
    "2a3c948a634c42dfbb18d50a2fc4482e": {
     "model_module": "@jupyter-widgets/base",
     "model_name": "LayoutModel",
     "state": {
      "_model_module": "@jupyter-widgets/base",
      "_model_module_version": "1.2.0",
      "_model_name": "LayoutModel",
      "_view_count": null,
      "_view_module": "@jupyter-widgets/base",
      "_view_module_version": "1.2.0",
      "_view_name": "LayoutView",
      "align_content": null,
      "align_items": null,
      "align_self": null,
      "border": null,
      "bottom": null,
      "display": null,
      "flex": null,
      "flex_flow": null,
      "grid_area": null,
      "grid_auto_columns": null,
      "grid_auto_flow": null,
      "grid_auto_rows": null,
      "grid_column": null,
      "grid_gap": null,
      "grid_row": null,
      "grid_template_areas": null,
      "grid_template_columns": null,
      "grid_template_rows": null,
      "height": null,
      "justify_content": null,
      "justify_items": null,
      "left": null,
      "margin": null,
      "max_height": null,
      "max_width": null,
      "min_height": null,
      "min_width": null,
      "object_fit": null,
      "object_position": null,
      "order": null,
      "overflow": null,
      "overflow_x": null,
      "overflow_y": null,
      "padding": null,
      "right": null,
      "top": null,
      "visibility": null,
      "width": null
     }
    },
    "3039169e937e48618ff84f2250f101e2": {
     "model_module": "@jupyter-widgets/base",
     "model_name": "LayoutModel",
     "state": {
      "_model_module": "@jupyter-widgets/base",
      "_model_module_version": "1.2.0",
      "_model_name": "LayoutModel",
      "_view_count": null,
      "_view_module": "@jupyter-widgets/base",
      "_view_module_version": "1.2.0",
      "_view_name": "LayoutView",
      "align_content": null,
      "align_items": null,
      "align_self": null,
      "border": null,
      "bottom": null,
      "display": null,
      "flex": null,
      "flex_flow": null,
      "grid_area": null,
      "grid_auto_columns": null,
      "grid_auto_flow": null,
      "grid_auto_rows": null,
      "grid_column": null,
      "grid_gap": null,
      "grid_row": null,
      "grid_template_areas": null,
      "grid_template_columns": null,
      "grid_template_rows": null,
      "height": null,
      "justify_content": null,
      "justify_items": null,
      "left": null,
      "margin": null,
      "max_height": null,
      "max_width": null,
      "min_height": null,
      "min_width": null,
      "object_fit": null,
      "object_position": null,
      "order": null,
      "overflow": null,
      "overflow_x": null,
      "overflow_y": null,
      "padding": null,
      "right": null,
      "top": null,
      "visibility": null,
      "width": null
     }
    },
    "8f2c3c1089d24dfda08a56227a1e0b88": {
     "model_module": "@jupyter-widgets/base",
     "model_name": "LayoutModel",
     "state": {
      "_model_module": "@jupyter-widgets/base",
      "_model_module_version": "1.2.0",
      "_model_name": "LayoutModel",
      "_view_count": null,
      "_view_module": "@jupyter-widgets/base",
      "_view_module_version": "1.2.0",
      "_view_name": "LayoutView",
      "align_content": null,
      "align_items": null,
      "align_self": null,
      "border": null,
      "bottom": null,
      "display": null,
      "flex": null,
      "flex_flow": null,
      "grid_area": null,
      "grid_auto_columns": null,
      "grid_auto_flow": null,
      "grid_auto_rows": null,
      "grid_column": null,
      "grid_gap": null,
      "grid_row": null,
      "grid_template_areas": null,
      "grid_template_columns": null,
      "grid_template_rows": null,
      "height": null,
      "justify_content": null,
      "justify_items": null,
      "left": null,
      "margin": null,
      "max_height": null,
      "max_width": null,
      "min_height": null,
      "min_width": null,
      "object_fit": null,
      "object_position": null,
      "order": null,
      "overflow": null,
      "overflow_x": null,
      "overflow_y": null,
      "padding": null,
      "right": null,
      "top": null,
      "visibility": null,
      "width": null
     }
    },
    "9999f70faa1b4071a7ff06c48fd1500e": {
     "model_module": "@jupyter-widgets/controls",
     "model_name": "HTMLModel",
     "state": {
      "_dom_classes": [],
      "_model_module": "@jupyter-widgets/controls",
      "_model_module_version": "1.5.0",
      "_model_name": "HTMLModel",
      "_view_count": null,
      "_view_module": "@jupyter-widgets/controls",
      "_view_module_version": "1.5.0",
      "_view_name": "HTMLView",
      "description": "",
      "description_tooltip": null,
      "layout": "IPY_MODEL_3039169e937e48618ff84f2250f101e2",
      "placeholder": "​",
      "style": "IPY_MODEL_b048541e707c449f9f24f1d60a97246e",
      "value": " 3000/3000 [35:39&lt;00:00,  1.40it/s]"
     }
    },
    "b048541e707c449f9f24f1d60a97246e": {
     "model_module": "@jupyter-widgets/controls",
     "model_name": "DescriptionStyleModel",
     "state": {
      "_model_module": "@jupyter-widgets/controls",
      "_model_module_version": "1.5.0",
      "_model_name": "DescriptionStyleModel",
      "_view_count": null,
      "_view_module": "@jupyter-widgets/base",
      "_view_module_version": "1.2.0",
      "_view_name": "StyleView",
      "description_width": ""
     }
    },
    "bf3de47085c24097bd879bce00985c66": {
     "model_module": "@jupyter-widgets/controls",
     "model_name": "ProgressStyleModel",
     "state": {
      "_model_module": "@jupyter-widgets/controls",
      "_model_module_version": "1.5.0",
      "_model_name": "ProgressStyleModel",
      "_view_count": null,
      "_view_module": "@jupyter-widgets/base",
      "_view_module_version": "1.2.0",
      "_view_name": "StyleView",
      "bar_color": null,
      "description_width": "initial"
     }
    },
    "e63ef306dbcd4dc6bcb5f5a81d04efce": {
     "model_module": "@jupyter-widgets/controls",
     "model_name": "HBoxModel",
     "state": {
      "_dom_classes": [],
      "_model_module": "@jupyter-widgets/controls",
      "_model_module_version": "1.5.0",
      "_model_name": "HBoxModel",
      "_view_count": null,
      "_view_module": "@jupyter-widgets/controls",
      "_view_module_version": "1.5.0",
      "_view_name": "HBoxView",
      "box_style": "",
      "children": [
       "IPY_MODEL_1e21bca11e66415f9477437f2950defe",
       "IPY_MODEL_9999f70faa1b4071a7ff06c48fd1500e"
      ],
      "layout": "IPY_MODEL_2a3c948a634c42dfbb18d50a2fc4482e"
     }
    }
   }
  }
 },
 "nbformat": 4,
 "nbformat_minor": 4
}
